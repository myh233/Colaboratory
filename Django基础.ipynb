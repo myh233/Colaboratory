{
  "nbformat": 4,
  "nbformat_minor": 0,
  "metadata": {
    "colab": {
      "name": "Django基础.ipynb",
      "version": "0.3.2",
      "provenance": [],
      "collapsed_sections": [],
      "include_colab_link": true
    },
    "kernelspec": {
      "name": "python3",
      "display_name": "Python 3"
    }
  },
  "cells": [
    {
      "cell_type": "markdown",
      "metadata": {
        "id": "view-in-github",
        "colab_type": "text"
      },
      "source": [
        "<a href=\"https://colab.research.google.com/github/myh233/Colaboratory/blob/master/Django%E5%9F%BA%E7%A1%80.ipynb\" target=\"_parent\"><img src=\"https://colab.research.google.com/assets/colab-badge.svg\" alt=\"Open In Colab\"/></a>"
      ]
    },
    {
      "metadata": {
        "id": "sB7LcvGlN_aJ",
        "colab_type": "text"
      },
      "cell_type": "markdown",
      "source": [
        "# Django基础知识\n",
        "### 第一步：在命令台使用$ django-admin startproject mysite001建立文件夹，然后使用python manage.py startapp app001得到app001文件夹，得到如下图\n",
        "\n",
        "![替代文字](https://pic2.zhimg.com/v2-a839087c0f404a91951fdf2aec1fca69_r.jpg)\n",
        "\n",
        "** 解释：** app001，存放指定app的文件夹\n",
        "\n",
        "mysite001，管理整个web的文件夹，web内容目前包含了一个app001\n",
        "\n",
        "manage.py，是django-admin的一个小包装，调用manage.py可以非常方便得执行诸如，新建APP，启动服务器等命令，在以后调试的时候我们会经常用到。\n",
        "\n",
        "### 第二步：新建两个文件夹：static 和 templates\n",
        "![替代文字](https://pic2.zhimg.com/v2-e374a12a511736a18c70eeda8c60cfb5_r.jpg)\n",
        "\n",
        "- **1. static**\n",
        "用于存放html<head>引入的css类，js类等文件，以及图片，声音等静态文件。\n",
        "\n",
        "大部分网页共用的静态文件可以直接存放在static目录下，如app001特别使用的文件，建议在static下新建文件夹app001单独存放。\n",
        "\n",
        "也可以下设image，sound等文件夹，专门管理某一类别的文件。\n",
        "\n",
        "- **2. templates**\n",
        "用于存放html类文件，同样的为每个app新建一个文件夹。\n",
        "\n",
        "### 第三步：修改\\mysite001\\mysite001\\settings.py 和 mysite001\\mysite001\\urls.py等的配置\n",
        "具体步骤见https://zhuanlan.zhihu.com/p/24831528\n",
        "\n",
        "### 第四步：第一个简单的App\n",
        "\n",
        "1、**新建”app001/urls.py”**\n",
        "\n",
        "from django.conf.urls import url\n",
        "\n",
        "from . import views\n",
        "\n",
        "from django.conf import settings\n",
        "\n",
        "from django.conf.urls.static import static\n",
        "\n",
        "\n",
        "urlpatterns =[\n",
        "    url(r'^$',views.index1,name='index1'), # 建立地址和视图的关联\n",
        "]+static(settings.STATIC_URL, document_root=settings.STATIC_ROOT)\n",
        "\n",
        "2、**打开“app001/views.py”**\n",
        "\n",
        "from django.shortcuts import render\n",
        "\n",
        "def index1(request): #定义视图index1\n",
        "\n",
        "    ans={} #创建一个字典\n",
        "  \n",
        "    ans['head']='hello world' # 赋值\n",
        "  \n",
        "    return render(request,'app001/firstpage.html',ans) # 输出字典\n",
        "    \n",
        "\n",
        "3、**新建 'templates/app001/firstpage.html'，编写一个最简单的html**\n",
        "  \n",
        "    % {{head}}\n",
        "    \n",
        "### 第五步：运行服务器\n",
        "\n",
        "    $ python manage.py runserver"
      ]
    }
  ]
}